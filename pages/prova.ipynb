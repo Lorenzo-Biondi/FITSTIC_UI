{
 "cells": [
  {
   "cell_type": "code",
   "execution_count": 1,
   "metadata": {},
   "outputs": [],
   "source": [
    "import joblib\n",
    "import pandas"
   ]
  },
  {
   "cell_type": "code",
   "execution_count": 6,
   "metadata": {},
   "outputs": [],
   "source": [
    "model = joblib.load('../model_el.pkl')"
   ]
  },
  {
   "cell_type": "code",
   "execution_count": 7,
   "metadata": {},
   "outputs": [
    {
     "name": "stdout",
     "output_type": "stream",
     "text": [
      "\n",
      "Features used in the model:\n",
      "- Pregnancies\n",
      "- Glucose\n",
      "- BloodPressure\n",
      "- SkinThickness\n",
      "- Insulin\n",
      "- BMI\n",
      "- DiabetesPedigreeFunction\n",
      "- Age\n"
     ]
    }
   ],
   "source": [
    "if hasattr(model, 'feature_names_in_'):\n",
    "    print(\"\\nFeatures used in the model:\")\n",
    "    for feature in model.feature_names_in_:\n",
    "        print(f\"- {feature}\")"
   ]
  },
  {
   "cell_type": "code",
   "execution_count": null,
   "metadata": {},
   "outputs": [],
   "source": []
  }
 ],
 "metadata": {
  "kernelspec": {
   "display_name": "Python 3",
   "language": "python",
   "name": "python3"
  },
  "language_info": {
   "codemirror_mode": {
    "name": "ipython",
    "version": 3
   },
   "file_extension": ".py",
   "mimetype": "text/x-python",
   "name": "python",
   "nbconvert_exporter": "python",
   "pygments_lexer": "ipython3",
   "version": "3.9.6"
  }
 },
 "nbformat": 4,
 "nbformat_minor": 2
}
